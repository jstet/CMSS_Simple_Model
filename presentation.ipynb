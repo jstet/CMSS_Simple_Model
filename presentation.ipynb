{
 "cells": [
  {
   "cell_type": "markdown",
   "metadata": {
    "slideshow": {
     "slide_type": "slide"
    }
   },
   "source": [
    "<p align='right'>Jonas Stettner - 30.01.2023</p>\n",
    "\n",
    "# A simple model of global cascades on random networks\n",
    "\n",
    "\n",
    "Watts, D. J. (2002). Proc. Natl. Acad. Sci. U.S.A., 99(9), 5766–5771. doi: 10.1073/pnas.082090499"
   ]
  },
  {
   "cell_type": "code",
   "execution_count": 3,
   "outputs": [],
   "source": [
    "import networkx as nx\n",
    "import matplotlib\n",
    "import scipy\n",
    "import random\n",
    "import numpy as np\n",
    "from matplotlib import pyplot as plt\n",
    "import matplotlib.animation as animation\n",
    "from scripts.model import simple_model\n",
    "from scripts.graphics import animate_g\n",
    "from scripts.helpers import col_nodes_phi, col_nodes_state, col_nodes_current\n",
    "from scripts.load_data import G_hamst"
   ],
   "metadata": {
    "collapsed": false
   }
  },
  {
   "cell_type": "markdown",
   "source": [
    "## Cascades\n",
    "Remember this guy?\n",
    "<p align=\"center\">\n",
    "      <img src=\"images/dancing_guy.jpg\" align=\"left width=\"200\"  height=\"200\" hspace=\"20\">\n",
    "      <img src=\"images/evacuate.jpg\" align=\"right\" width=\"200\" height=\"200\" hspace=\"20\">\n",
    "</p>\n",
    "<p align='right'>Fig. 1, Fig. 2</p>"
   ],
   "metadata": {
    "collapsed": false
   }
  },
  {
   "cell_type": "markdown",
   "source": [
    "## Agenda\n",
    "1. Recap\n",
    "    <ol style=\"list-style-type: upper-alpha\">\n",
    "    <li>Cascades</li>\n",
    "    <li>Network Position and Influence</li>\n",
    "    <li>Random Network Models vs. Real Networks</li>\n",
    "     <li>Phase Transitions</li>\n",
    "    </ol>\n",
    "2. Theoretical Background\n",
    "    <ol style=\"list-style-type: upper-alpha\">\n",
    "    <li>Information Cascades</li>\n",
    "    <li>Binary Decision with externalities</li>\n",
    "    </ol>\n",
    "3. Today's model\n",
    "4. Analytical Solution\n",
    "5. Simulation"
   ],
   "metadata": {
    "collapsed": false
   }
  },
  {
   "cell_type": "markdown",
   "source": [
    "## Recap: Cascades\n",
    "### Online social network resilience\n",
    "- (Rational) decision to stay in network: **net benefit > 0**\n",
    "- Benefits (content, attention) are proportional to active friends ($k_u$)\n",
    "- User with $k_u < K$ leave network\n",
    "    - this causes other users to also not have enough connections -> **evacuate the dancefloor**\n",
    "    - only k-core (all users that have at least K friends) remains\n",
    "- Effect of value of K on active users -> resilience function\n",
    "\n",
    "\n",
    "<p align='right'>(dgarcia-eu, 2023)</p>"
   ],
   "metadata": {
    "collapsed": false
   }
  },
  {
   "cell_type": "markdown",
   "source": [
    "## Recap: Network position and influence - Centrality\n",
    "- Identifying nodes that could potentially cause large cascades with centrality measures -> spreading capability\n",
    "- Degree Centrality\n",
    "    - Simply the degree of a node\n",
    "- K-Shell decomposition\n",
    "    - Removing nodes with k, k+1, k+2 ... and assigning the corresponding $k_s$ to the nodes until graph is empty\n",
    "    - k-shell index itself is a centrality measure\n",
    "- Coreness centrality\n",
    "    - Taking into account degree of node plus the k_s of its neighbours\n",
    "- Core centrality was proven to be a more accurate/reliabel measure of spreading capability\n",
    "\n",
    "\n",
    "<p align='right'>(Goldbeck, 2015), (Kitsak et al., 2010), (Bae et al., 2014)</p>\n"
   ],
   "metadata": {
    "collapsed": false
   }
  },
  {
   "cell_type": "markdown",
   "source": [
    "## Recap: Random Network Models vs. Empirical Networks\n",
    "- Number of nodes is fixed\n",
    "- $G(n,m)$\n",
    "    - choose m pairs of nodes from all possible pairs and connect them with edge (m edges)\n",
    "    - number of edges (m) is fixed\n",
    "- $G(n,p)$\n",
    "    - fixed probability of edges (p)\n",
    "    - edge between each possible pair of nodes with probability p\n",
    "- Empirical networks:\n",
    "  - average path length similar\n",
    "  - higher clustering coefficient\n",
    "\n",
    "\n",
    "<p align='right'>(Newman, 2010),(Frieze et al. ,2015)(dgarcia-eu, 2023)(</p>"
   ],
   "metadata": {
    "collapsed": false
   }
  },
  {
   "cell_type": "markdown",
   "source": [
    "## Recap: Phase Transitions\n",
    "### Granovetter's threshold model:\n",
    "- Threshold to join a riot: **net benefit > 0**\n",
    "- Decision based how many other people participate (influences benefits and costs -> rational decision)\n",
    "- **Phase transition**: small changes in model parameters (threshold standard deviation, threshold sequence) lead to sudden disproportionately big change in outcome\n",
    "\n",
    "\n",
    "<p align='right'>(Granovetter, 1978), (dgarcia-eu, 2023)</p>"
   ],
   "metadata": {
    "collapsed": false
   }
  },
  {
   "cell_type": "markdown",
   "source": [
    "## Theoretical Background\n",
    "### Information Cascades\n",
    "- Small initial shock disrupts large stable system\n",
    "- e.g. some people stop to wear masks -> almost nobody wears a mask anymore (assuming wearing a mask was stable for some time)\n",
    "- \"(i) global (i.e., very large) cascades can be triggered by exogenous events (shocks) that are very small relative to the system size, and (ii) global cascades occur rarely relative to the number of shocks that the system receives, and may be triggered by shocks that are a priori indistinguishable from shocks that do not.\""
   ],
   "metadata": {
    "collapsed": false
   }
  },
  {
   "cell_type": "markdown",
   "source": [
    "## Theoretical Background\n",
    "### Binary Decision with externalities\n",
    "\n",
    "- Many complex real world scenarios boil down to a binary choice\n",
    "- Choice depends exclusively on the choices of other people\n",
    "    - e.g. because of net benefit, lack of information\n",
    "    - Rational choice or conformity (see Asch conformity experiments)?"
   ],
   "metadata": {
    "collapsed": false
   }
  },
  {
   "cell_type": "markdown",
   "metadata": {
    "slideshow": {
     "slide_type": "slide"
    }
   },
   "source": [
    "## Todays model\n",
    "### Dynamics\n",
    "- Agents are either in state 1 or 0\n",
    "- Observes current states of $k$ neighbours\n",
    "- Adopts state 1 if fraction of neighbours $>= \\phi$ (threshold)\n",
    "- Each agent is assigned a $\\phi$ drawn from a distribution $f(\\phi)$\n",
    "- $f(\\phi)$ with $x \\in [0, 1]$ and $ \\int_{1}^{0} f(\\phi)d\\phi = 1$\n",
    "- Construct a network of $n$ agents, in which each agent is connected to $k$ neighbors with probability $p_k$ and the average number of neighbors is $〈k〉 = z$\n",
    "- At $t=0$, $\\Phi_0 << 1$ of agents switch to 1 (instigators/innovators)"
   ]
  },
  {
   "cell_type": "markdown",
   "source": [
    "## Todays model\n",
    "### Choice of network model\n",
    "- sparse graph: $z << n$\n",
    "- undirected\n",
    "- For the analytical solution:\n",
    "    - arbitrary random graph\n",
    "- For the simulation:\n",
    "    - uniform random graph\n",
    "    - every possible pair of nodes is connected with $p=z/n$\n",
    "    - z is variable"
   ],
   "metadata": {
    "collapsed": false
   }
  },
  {
   "cell_type": "markdown",
   "source": [
    "## Todays model\n",
    "- cascade: event of any size triggered by an initial seed\n",
    "- global cascade:\n",
    "  - finite fraction of an infinite network/fixed fraction of large finite network\n",
    "- The authors want to predict:\n",
    "    - the probability that a global cascade will be triggered by a single node\n",
    "    - the expected size of a global cascade once it is triggered"
   ],
   "metadata": {
    "collapsed": false
   }
  },
  {
   "cell_type": "markdown",
   "source": [
    "## Analytical solution\n",
    "### Intuition 1\n",
    "- assumption: no short cycles\n",
    "- one neighbour has to have $\\phi \\leq  1/k$\n",
    "- vulnerable (early adopters) vs stable nodes"
   ],
   "metadata": {
    "collapsed": false
   }
  },
  {
   "cell_type": "markdown",
   "source": [
    "## Analytical solution\n",
    "### Intuition 2\n",
    "- probability of cascade depends on early adopters\n",
    "- size of cascade depends on connectedness of early adopters\n",
    "    - to each other\n",
    "    - to nodes that can be influenced indirectly by multiple early adopters\n",
    "- **cascade condition**:\n",
    "    - \"only if the largest vulnerable cluster percolates are global cascades possible\""
   ],
   "metadata": {
    "collapsed": false
   }
  },
  {
   "cell_type": "markdown",
   "source": [
    "## Analytical solution\n",
    "### Maths\n",
    "- percolation problem\n",
    "- solved with generating functions\n",
    "- Cascade condition:\n",
    "$$G_{n}^0(1) = \\Sigma k(k-1)\\rho_kp_k=z $$\n",
    "- Approach explained in detail elsewhere (Newman et al., 2001)"
   ],
   "metadata": {
    "collapsed": false
   }
  },
  {
   "cell_type": "markdown",
   "source": [
    "## Simulation"
   ],
   "metadata": {
    "collapsed": false
   }
  },
  {
   "cell_type": "code",
   "execution_count": 4,
   "outputs": [
    {
     "data": {
      "text/plain": "<Figure size 600x400 with 1 Axes>",
      "image/png": "[encoded data removed]"
     },
     "metadata": {},
     "output_type": "display_data"
    }
   ],
   "source": [
    "\n",
    "lst = simple_model(n=10,z=4, phi=0.3, upper_phi=1)\n",
    "initial = lst[0][0]\n",
    "end  = lst[-1][-1]\n",
    "\n",
    "lst = simple_model(n=10, z=4, phi=0.3, upper_phi=1)\n",
    "\n",
    "animate_g(lst, fps=0.5)\n",
    "\n"
   ],
   "metadata": {
    "collapsed": false
   }
  },
  {
   "cell_type": "markdown",
   "source": [
    "## Sources\n",
    "\n",
    "- Granovetter, M. (1978). Threshold Models of Collective Behavior on JSTOR. American Journal of Sociology, 83(6), 1420–1443. Retrieved from https://www.jstor.org/stable/2778111\n",
    "- dgarcia-eu. (2023, January 28). CMSS-Konstanz. Retrieved from https://github.com/dgarcia-eu/CMSS-Konstanz accessed 28 Jan. 2023.\n",
    "- Golbeck, J. (2015). Chapter 21 - Analyzing networks. Introduction to Social Media Investigation. Syngress. doi: 10.1016/B978-0-12-801656-5.00021-4\n",
    "- Kitsak, M., Gallos, L. K., Havlin, S., Liljeros, F., Muchnik, L., Stanley, H. E., & Makse, H. A. (2010). Identification of influential spreaders in complex networks. Nat. Phys., 6, 888–893. doi: 10.1038/nphys1746\n",
    "- Bae, J., & Kim, S. (2014). Identifying and ranking influential spreaders in complex networks by neighborhood coreness. Physica A, 395, 549–559. doi: 10.1016/j.physa.2013.10.047\n",
    "- Newman, Mark, Networks: An Introduction, 1st edn (Oxford, 2010; online edn, Oxford Academic, 1 Sept. 2010), https://doi.org/10.1093/acprof:oso/9780199206650.001.0001\n",
    "- Frieze, A., & Karoński, M. (2015). Introduction to Random Graphs. Cambridge University Press. doi: 10.1017/CBO9781316339831\n",
    "- Newman, M. E. J., Strogatz, S. H., & Watts, D. J. (2001). Random graphs with arbitrary degree distributions and their applications. Phys. Rev. E, 64(2), 026118. doi: 10.1103/PhysRevE.64.026118\n",
    "\n",
    "### Figures\n",
    "- Fig. 1: dkellerm. (2009, May 26). Sasquatch music festival 2009 - Guy starts dance party. Youtube. Retrieved from https://www.youtube.com/watch?v=GA8z7f7a2Pk\n",
    "- Fig. 2: Evacuate The Dancefloor. (2023, January 28). Retrieved from https://open.spotify.com/album/05f1Ze9FcQDIopTNcwctAq"
   ],
   "metadata": {
    "collapsed": false
   }
  }
 ],
 "metadata": {
  "celltoolbar": "Slideshow",
  "kernelspec": {
   "display_name": "Python 3 (ipykernel)",
   "language": "python",
   "name": "python3"
  },
  "language_info": {
   "codemirror_mode": {
    "name": "ipython",
    "version": 3
   },
   "file_extension": ".py",
   "mimetype": "text/x-python",
   "name": "python",
   "nbconvert_exporter": "python",
   "pygments_lexer": "ipython3",
   "version": "3.10.9"
  }
 },
 "nbformat": 4,
 "nbformat_minor": 1
}
