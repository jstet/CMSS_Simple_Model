{
 "cells": [
  {
   "cell_type": "markdown",
   "source": [
    "# A simple model of global cascades on random networks\n",
    "\n",
    "**Recreating the model specified in:**\n",
    "Watts, D. J. (2002). A simple model of global cascades on random networks. Proc. Natl. Acad. Sci. U.S.A., 99(9), 5766–5771. doi: 10.1073/pnas.082090499"
   ],
   "metadata": {
    "collapsed": false
   }
  },
  {
   "cell_type": "code",
   "execution_count": 12,
   "outputs": [],
   "source": [
    "import networkx as nx\n",
    "import matplotlib\n",
    "import random\n",
    "import numpy as np\n",
    "import matplotlib.pyplot as plt"
   ],
   "metadata": {
    "collapsed": false
   }
  },
  {
   "cell_type": "markdown",
   "source": [
    "## Model specifications\n",
    "- Binary decision rule with externalities, agents are either in state 1 or 0\n",
    "- Agent observes current states of $k$ other agents (neighbours)\n",
    "- Agent adopts state 1 if fraction of neighbours $>= \\varphi$ (threshold)\n",
    "- Thresholds and number of neighbors are heterogeneous\n",
    "- Each agent is assigned a $\\varphi$ drawn from a distribution $f(\\varphi)$\n",
    "- $f(\\varphi)$ with $x \\in [0, 1]$ and $ \\int_{1}^{0} f(\\varphi)d\\varphi = 1$\n",
    "- Construct a network of $n$ agents, in which each agent is connected to $k$ neighbors with probability $p_k$ and the average number of neighbors is $〈k〉 = z$\n",
    "- $〈k〉$ = expected value of k\n",
    "- $p_k$ is degree distribution\n",
    "- $z$ is average degree\n",
    "- At $t=0$, $\\Phi_0 << 1$ of agents switch to 1"
   ],
   "metadata": {
    "collapsed": false
   }
  },
  {
   "cell_type": "code",
   "execution_count": 133,
   "outputs": [],
   "source": [
    "G = nx.gnp_random_graph(50,0.3)\n",
    "nx.set_node_attributes(G, 0, \"state\")"
   ],
   "metadata": {
    "collapsed": false
   }
  },
  {
   "cell_type": "code",
   "execution_count": 93,
   "outputs": [],
   "source": [
    "alpha = random.uniform(1,2)\n",
    "beta = random.uniform(1,2)"
   ],
   "metadata": {
    "collapsed": false
   }
  },
  {
   "cell_type": "code",
   "execution_count": 129,
   "outputs": [],
   "source": [
    "node_ids = list(G.nodes)\n",
    "for i in node_ids:\n",
    "    k = len(G.adj[i])\n",
    "    phi = np.random.beta(alpha, beta)\n",
    "    attrs = {i: {\"phi\": phi}}\n",
    "    nx.set_node_attributes(G, attrs)"
   ],
   "metadata": {
    "collapsed": false
   }
  },
  {
   "cell_type": "code",
   "execution_count": 146,
   "outputs": [],
   "source": [
    "innovator = random.choice(node_ids)\n",
    "attrs = {innovator: {\"state\": 1}}\n",
    "nx.set_node_attributes(G, attrs)"
   ],
   "metadata": {
    "collapsed": false
   }
  },
  {
   "cell_type": "code",
   "execution_count": 140,
   "outputs": [
    {
     "name": "stdout",
     "output_type": "stream",
     "text": [
      "14\n",
      "15\n",
      "14\n",
      "11\n",
      "17\n",
      "13\n",
      "11\n",
      "17\n",
      "12\n",
      "14\n",
      "19\n",
      "12\n",
      "13\n",
      "10\n",
      "16\n",
      "15\n",
      "12\n",
      "11\n",
      "22\n",
      "13\n",
      "12\n",
      "16\n",
      "21\n",
      "9\n",
      "16\n",
      "12\n",
      "18\n",
      "14\n",
      "13\n",
      "19\n",
      "12\n",
      "19\n",
      "13\n",
      "12\n",
      "12\n",
      "12\n",
      "19\n",
      "17\n",
      "19\n",
      "13\n",
      "20\n",
      "8\n",
      "19\n",
      "14\n",
      "17\n",
      "17\n",
      "10\n",
      "17\n",
      "14\n",
      "13\n"
     ]
    }
   ],
   "source": [
    "for i in range(1):\n",
    "    for node in node_ids:\n",
    "        neighbours = G.adj[node]\n",
    "        k = len(neighbours)\n"
   ],
   "metadata": {
    "collapsed": false
   }
  }
 ],
 "metadata": {
  "kernelspec": {
   "display_name": "Python 3",
   "language": "python",
   "name": "python3"
  },
  "language_info": {
   "codemirror_mode": {
    "name": "ipython",
    "version": 2
   },
   "file_extension": ".py",
   "mimetype": "text/x-python",
   "name": "python",
   "nbconvert_exporter": "python",
   "pygments_lexer": "ipython2",
   "version": "2.7.6"
  }
 },
 "nbformat": 4,
 "nbformat_minor": 0
}
